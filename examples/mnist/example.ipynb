{
 "cells": [
  {
   "cell_type": "code",
   "execution_count": 1,
   "metadata": {},
   "outputs": [
    {
     "name": "stderr",
     "output_type": "stream",
     "text": [
      "/home/nicolas/mambaforge/envs/gom/lib/python3.11/site-packages/torchvision/io/image.py:13: UserWarning: Failed to load image Python extension: '/home/nicolas/mambaforge/envs/gom/lib/python3.11/site-packages/torchvision/image.so: undefined symbol: _ZN3c1017RegisterOperatorsD1Ev'If you don't plan on using image functionality from `torchvision.io`, you can ignore this warning. Otherwise, there might be something wrong with your environment. Did you have `libjpeg` or `libpng` installed before building `torchvision` from source?\n",
      "  warn(\n"
     ]
    }
   ],
   "source": [
    "import lightning as L\n",
    "import torch\n",
    "from torch import optim, nn\n",
    "import torch.nn.functional as F\n",
    "import torch.utils.data as data\n",
    "from torchvision.datasets import MNIST\n",
    "from torchvision.utils import make_grid\n",
    "import torchvision.transforms as transforms\n",
    "from torchmetrics import functional as mF\n",
    "import matplotlib.pyplot as plt"
   ]
  },
  {
   "cell_type": "markdown",
   "metadata": {},
   "source": [
    "### Define the baseline\n",
    "\n",
    "Simple MLP with 64 hidden dimensions."
   ]
  },
  {
   "cell_type": "code",
   "execution_count": 2,
   "metadata": {},
   "outputs": [],
   "source": [
    "class MNISTDataset(MNIST):\n",
    "    pass\n",
    "\n",
    "class DigitDataModule(L.LightningDataModule):\n",
    "    # TAKEN FROM https://github.com/sxg/PyTorch-Lightning-MNIST-Classifier/blob/main/DigitDataModule.py\n",
    "    def __init__(self, dataset, batch_size=64):\n",
    "        super().__init__()\n",
    "        self.batch_size = batch_size\n",
    "        self.dataset = dataset\n",
    "        self.transform = transforms.Compose([\n",
    "          transforms.ToTensor(),\n",
    "          transforms.Normalize((0.5,), (0.5,))])\n",
    "\n",
    "    def prepare_data(self):\n",
    "        self.dataset(\"MNIST\", train=True, download=True)\n",
    "        self.dataset(\"MNIST\", train=False, download=True)\n",
    "\n",
    "    def setup(self, stage):\n",
    "        if stage == \"fit\":\n",
    "            full_set = self.dataset(\n",
    "                root=\"MNIST\",\n",
    "                train=True,\n",
    "                transform=self.transform,\n",
    "            )\n",
    "            train_set_size = int(len(full_set) * 0.8)\n",
    "            val_set_size = len(full_set) - train_set_size\n",
    "            seed = torch.Generator().manual_seed(42)\n",
    "            (\n",
    "                self.train_set,\n",
    "                self.val_set,\n",
    "            ) = data.random_split(  # Split train/val datasets\n",
    "                full_set, [train_set_size, val_set_size], generator=seed\n",
    "            )\n",
    "        elif stage == \"test\":\n",
    "            self.test_set = self.dataset(\n",
    "                root=\"MNIST\",\n",
    "                train=False,\n",
    "                transform=self.transform,\n",
    "            )\n",
    "\n",
    "    def train_dataloader(self):\n",
    "        return data.DataLoader(self.train_set, batch_size=self.batch_size, num_workers=16)\n",
    "\n",
    "    def val_dataloader(self):\n",
    "        return data.DataLoader(self.val_set, batch_size=self.batch_size, num_workers=16)\n",
    "\n",
    "    def test_dataloader(self):\n",
    "        return data.DataLoader(self.test_set, batch_size=self.batch_size, num_workers=16)\n",
    "\n",
    "class DigitModuleBaseline(L.LightningModule):\n",
    "    def __init__(self):\n",
    "        super().__init__()\n",
    "        self.mlp = nn.Sequential(\n",
    "            nn.Linear(784, 64),\n",
    "            nn.ReLU())\n",
    "\n",
    "        self.classifier = nn.Linear(64, 10)\n",
    "\n",
    "    def data_step(self, batch, log_name):\n",
    "        x, y = batch\n",
    "        \n",
    "        latent = self.mlp(x.view(-1, 784))\n",
    "        pred = self.classifier(latent)\n",
    "\n",
    "        loss = F.cross_entropy(pred, y)\n",
    "        self.log(f\"{log_name}/loss\", loss, prog_bar=True)\n",
    "\n",
    "        acc = mF.accuracy(pred, y, task=\"multiclass\", num_classes=10)\n",
    "        self.log(f\"{log_name}/accuracy\", acc, prog_bar=True)\n",
    "\n",
    "        return pred, loss, acc\n",
    "\n",
    "    def configure_optimizers(self):\n",
    "        return optim.Adam(self.parameters(), lr=1e-3)\n",
    "\n",
    "    def training_step(self, batch, batch_idx):\n",
    "        pred, loss, _ = self.data_step(batch, \"train\")\n",
    "        return loss\n",
    "\n",
    "    def validation_step(self, batch, batch_idx):\n",
    "        pred, loss, _ = self.data_step(batch, \"valid\")\n",
    "        return loss\n",
    "\n",
    "    def test_step(self, batch, batch_idx):\n",
    "        pred, loss, acc = self.data_step(batch, \"test\")\n",
    "        return {\"loss\": loss, \"acc\": acc}"
   ]
  },
  {
   "cell_type": "markdown",
   "metadata": {},
   "source": [
    "Train the baseline"
   ]
  },
  {
   "cell_type": "code",
   "execution_count": 78,
   "metadata": {},
   "outputs": [
    {
     "name": "stderr",
     "output_type": "stream",
     "text": [
      "GPU available: True (cuda), used: True\n",
      "TPU available: False, using: 0 TPU cores\n",
      "IPU available: False, using: 0 IPUs\n",
      "HPU available: False, using: 0 HPUs\n",
      "LOCAL_RANK: 0 - CUDA_VISIBLE_DEVICES: [0,1]\n",
      "\n",
      "  | Name       | Type       | Params\n",
      "------------------------------------------\n",
      "0 | mlp        | Sequential | 50.2 K\n",
      "1 | classifier | Linear     | 650   \n",
      "------------------------------------------\n",
      "50.9 K    Trainable params\n",
      "0         Non-trainable params\n",
      "50.9 K    Total params\n",
      "0.204     Total estimated model params size (MB)\n"
     ]
    },
    {
     "data": {
      "application/vnd.jupyter.widget-view+json": {
       "model_id": "",
       "version_major": 2,
       "version_minor": 0
      },
      "text/plain": [
       "Sanity Checking: |                                                                                            …"
      ]
     },
     "metadata": {},
     "output_type": "display_data"
    },
    {
     "data": {
      "application/vnd.jupyter.widget-view+json": {
       "model_id": "106c03fe04a442578b547750758f8244",
       "version_major": 2,
       "version_minor": 0
      },
      "text/plain": [
       "Training: |                                                                                                   …"
      ]
     },
     "metadata": {},
     "output_type": "display_data"
    },
    {
     "data": {
      "application/vnd.jupyter.widget-view+json": {
       "model_id": "",
       "version_major": 2,
       "version_minor": 0
      },
      "text/plain": [
       "Validation: |                                                                                                 …"
      ]
     },
     "metadata": {},
     "output_type": "display_data"
    },
    {
     "data": {
      "application/vnd.jupyter.widget-view+json": {
       "model_id": "",
       "version_major": 2,
       "version_minor": 0
      },
      "text/plain": [
       "Validation: |                                                                                                 …"
      ]
     },
     "metadata": {},
     "output_type": "display_data"
    },
    {
     "data": {
      "application/vnd.jupyter.widget-view+json": {
       "model_id": "",
       "version_major": 2,
       "version_minor": 0
      },
      "text/plain": [
       "Validation: |                                                                                                 …"
      ]
     },
     "metadata": {},
     "output_type": "display_data"
    },
    {
     "data": {
      "application/vnd.jupyter.widget-view+json": {
       "model_id": "",
       "version_major": 2,
       "version_minor": 0
      },
      "text/plain": [
       "Validation: |                                                                                                 …"
      ]
     },
     "metadata": {},
     "output_type": "display_data"
    },
    {
     "data": {
      "application/vnd.jupyter.widget-view+json": {
       "model_id": "",
       "version_major": 2,
       "version_minor": 0
      },
      "text/plain": [
       "Validation: |                                                                                                 …"
      ]
     },
     "metadata": {},
     "output_type": "display_data"
    },
    {
     "data": {
      "application/vnd.jupyter.widget-view+json": {
       "model_id": "",
       "version_major": 2,
       "version_minor": 0
      },
      "text/plain": [
       "Validation: |                                                                                                 …"
      ]
     },
     "metadata": {},
     "output_type": "display_data"
    },
    {
     "data": {
      "application/vnd.jupyter.widget-view+json": {
       "model_id": "",
       "version_major": 2,
       "version_minor": 0
      },
      "text/plain": [
       "Validation: |                                                                                                 …"
      ]
     },
     "metadata": {},
     "output_type": "display_data"
    },
    {
     "data": {
      "application/vnd.jupyter.widget-view+json": {
       "model_id": "",
       "version_major": 2,
       "version_minor": 0
      },
      "text/plain": [
       "Validation: |                                                                                                 …"
      ]
     },
     "metadata": {},
     "output_type": "display_data"
    },
    {
     "data": {
      "application/vnd.jupyter.widget-view+json": {
       "model_id": "",
       "version_major": 2,
       "version_minor": 0
      },
      "text/plain": [
       "Validation: |                                                                                                 …"
      ]
     },
     "metadata": {},
     "output_type": "display_data"
    },
    {
     "data": {
      "application/vnd.jupyter.widget-view+json": {
       "model_id": "",
       "version_major": 2,
       "version_minor": 0
      },
      "text/plain": [
       "Validation: |                                                                                                 …"
      ]
     },
     "metadata": {},
     "output_type": "display_data"
    },
    {
     "name": "stderr",
     "output_type": "stream",
     "text": [
      "`Trainer.fit` stopped: `max_epochs=10` reached.\n",
      "LOCAL_RANK: 0 - CUDA_VISIBLE_DEVICES: [0,1]\n"
     ]
    },
    {
     "data": {
      "application/vnd.jupyter.widget-view+json": {
       "model_id": "a26e9c5b83e84cb48fa15237e318b302",
       "version_major": 2,
       "version_minor": 0
      },
      "text/plain": [
       "Testing: |                                                                                                    …"
      ]
     },
     "metadata": {},
     "output_type": "display_data"
    },
    {
     "name": "stderr",
     "output_type": "stream",
     "text": [
      "Exception ignored in: <function _MultiProcessingDataLoaderIter.__del__ at 0x77c392512200>Exception ignored in: \n",
      "<function _MultiProcessingDataLoaderIter.__del__ at 0x77c392512200>Traceback (most recent call last):\n",
      "\n",
      "  File \"/home/nicolas/mambaforge/envs/gom/lib/python3.11/site-packages/torch/utils/data/dataloader.py\", line 1479, in __del__\n",
      "Traceback (most recent call last):\n",
      "  File \"/home/nicolas/mambaforge/envs/gom/lib/python3.11/site-packages/torch/utils/data/dataloader.py\", line 1479, in __del__\n",
      "        self._shutdown_workers()self._shutdown_workers()\n",
      "\n",
      "  File \"/home/nicolas/mambaforge/envs/gom/lib/python3.11/site-packages/torch/utils/data/dataloader.py\", line 1462, in _shutdown_workers\n",
      "  File \"/home/nicolas/mambaforge/envs/gom/lib/python3.11/site-packages/torch/utils/data/dataloader.py\", line 1462, in _shutdown_workers\n",
      "Exception ignored in:     Exception ignored in:     <function _MultiProcessingDataLoaderIter.__del__ at 0x77c392512200>if w.is_alive():<function _MultiProcessingDataLoaderIter.__del__ at 0x77c392512200>if w.is_alive():\n",
      "\n",
      "\n",
      "\n",
      " Traceback (most recent call last):\n",
      "Traceback (most recent call last):\n",
      "    File \"/home/nicolas/mambaforge/envs/gom/lib/python3.11/site-packages/torch/utils/data/dataloader.py\", line 1479, in __del__\n",
      "  File \"/home/nicolas/mambaforge/envs/gom/lib/python3.11/site-packages/torch/utils/data/dataloader.py\", line 1479, in __del__\n",
      "            self._shutdown_workers()self._shutdown_workers()  \n",
      "\n",
      "    File \"/home/nicolas/mambaforge/envs/gom/lib/python3.11/site-packages/torch/utils/data/dataloader.py\", line 1462, in _shutdown_workers\n",
      "  File \"/home/nicolas/mambaforge/envs/gom/lib/python3.11/site-packages/torch/utils/data/dataloader.py\", line 1462, in _shutdown_workers\n",
      "      ^     if w.is_alive():^if w.is_alive():^\n",
      "^\n",
      "^ ^ ^ ^ ^ ^ ^^  ^Exception ignored in: ^ Exception ignored in: ^<function _MultiProcessingDataLoaderIter.__del__ at 0x77c392512200> ^ <function _MultiProcessingDataLoaderIter.__del__ at 0x77c392512200> \n",
      "^ ^\n",
      "Traceback (most recent call last):\n",
      " ^^^Traceback (most recent call last):\n",
      "  File \"/home/nicolas/mambaforge/envs/gom/lib/python3.11/site-packages/torch/utils/data/dataloader.py\", line 1479, in __del__\n",
      "^^^^  File \"/home/nicolas/mambaforge/envs/gom/lib/python3.11/site-packages/torch/utils/data/dataloader.py\", line 1479, in __del__\n",
      "^^\n",
      "^    ^^      File \"/home/nicolas/mambaforge/envs/gom/lib/python3.11/multiprocessing/process.py\", line 160, in is_alive\n",
      "^self._shutdown_workers()\n",
      "^self._shutdown_workers()    ^\n",
      "  File \"/home/nicolas/mambaforge/envs/gom/lib/python3.11/multiprocessing/process.py\", line 160, in is_alive\n",
      "^assert self._parent_pid == os.getpid(), 'can only test a child process'\n",
      "^      File \"/home/nicolas/mambaforge/envs/gom/lib/python3.11/site-packages/torch/utils/data/dataloader.py\", line 1462, in _shutdown_workers\n",
      "^  File \"/home/nicolas/mambaforge/envs/gom/lib/python3.11/site-packages/torch/utils/data/dataloader.py\", line 1462, in _shutdown_workers\n",
      "\n",
      "^assert self._parent_pid == os.getpid(), 'can only test a child process'    ^AssertionError^\n",
      "if w.is_alive():    ^: ^Exception ignored in: AssertionErrorif w.is_alive():\n",
      "^can only test a child process^<function _MultiProcessingDataLoaderIter.__del__ at 0x77c392512200>: \n",
      " ^\n",
      "^\n",
      "can only test a child process  ^^Traceback (most recent call last):\n",
      "\n",
      " ^   File \"/home/nicolas/mambaforge/envs/gom/lib/python3.11/site-packages/torch/utils/data/dataloader.py\", line 1479, in __del__\n",
      "\n",
      "\n",
      "    File \"/home/nicolas/mambaforge/envs/gom/lib/python3.11/multiprocessing/process.py\", line 160, in is_alive\n",
      "  File \"/home/nicolas/mambaforge/envs/gom/lib/python3.11/multiprocessing/process.py\", line 160, in is_alive\n",
      "                self._shutdown_workers()assert self._parent_pid == os.getpid(), 'can only test a child process'assert self._parent_pid == os.getpid(), 'can only test a child process'  \n",
      "\n",
      "\n",
      "^ AssertionError  File \"/home/nicolas/mambaforge/envs/gom/lib/python3.11/site-packages/torch/utils/data/dataloader.py\", line 1462, in _shutdown_workers\n",
      "Exception ignored in: AssertionError^^: <function _MultiProcessingDataLoaderIter.__del__ at 0x77c392512200>    ^: ^can only test a child process\n",
      "if w.is_alive():can only test a child process^^\n",
      "Traceback (most recent call last):\n",
      "\n",
      "\n",
      "^^  File \"/home/nicolas/mambaforge/envs/gom/lib/python3.11/site-packages/torch/utils/data/dataloader.py\", line 1479, in __del__\n",
      " ^^     ^^ self._shutdown_workers()^^ \n",
      "^ ^  File \"/home/nicolas/mambaforge/envs/gom/lib/python3.11/site-packages/torch/utils/data/dataloader.py\", line 1462, in _shutdown_workers\n",
      "^ ^^     ^^if w.is_alive():^^\n",
      "\n",
      "^^  File \"/home/nicolas/mambaforge/envs/gom/lib/python3.11/multiprocessing/process.py\", line 160, in is_alive\n",
      " ^\n",
      "     ^  File \"/home/nicolas/mambaforge/envs/gom/lib/python3.11/multiprocessing/process.py\", line 160, in is_alive\n",
      "assert self._parent_pid == os.getpid(), 'can only test a child process' ^\n",
      "     ^AssertionErrorassert self._parent_pid == os.getpid(), 'can only test a child process' ^: \n",
      " ^can only test a child processAssertionError ^\n",
      ": ^^can only test a child process^^\n",
      "^^^\n",
      "^  File \"/home/nicolas/mambaforge/envs/gom/lib/python3.11/multiprocessing/process.py\", line 160, in is_alive\n",
      "^    ^assert self._parent_pid == os.getpid(), 'can only test a child process'^\n",
      "^AssertionError^Exception ignored in: : ^<function _MultiProcessingDataLoaderIter.__del__ at 0x77c392512200>can only test a child process^\n",
      "\n",
      "\n",
      "Traceback (most recent call last):\n",
      "  File \"/home/nicolas/mambaforge/envs/gom/lib/python3.11/multiprocessing/process.py\", line 160, in is_alive\n",
      "  File \"/home/nicolas/mambaforge/envs/gom/lib/python3.11/site-packages/torch/utils/data/dataloader.py\", line 1479, in __del__\n",
      "        assert self._parent_pid == os.getpid(), 'can only test a child process'self._shutdown_workers()\n",
      "\n",
      "AssertionError  File \"/home/nicolas/mambaforge/envs/gom/lib/python3.11/site-packages/torch/utils/data/dataloader.py\", line 1462, in _shutdown_workers\n",
      ": can only test a child process    if w.is_alive():\n",
      "\n",
      "       ^^^^^^^^^^^^\n",
      "  File \"/home/nicolas/mambaforge/envs/gom/lib/python3.11/multiprocessing/process.py\", line 160, in is_alive\n",
      "    assert self._parent_pid == os.getpid(), 'can only test a child process'\n",
      "AssertionError: can only test a child process\n",
      "Exception ignored in: <function _MultiProcessingDataLoaderIter.__del__ at 0x77c392512200>\n",
      "Traceback (most recent call last):\n",
      "  File \"/home/nicolas/mambaforge/envs/gom/lib/python3.11/site-packages/torch/utils/data/dataloader.py\", line 1479, in __del__\n",
      "    self._shutdown_workers()\n",
      "  File \"/home/nicolas/mambaforge/envs/gom/lib/python3.11/site-packages/torch/utils/data/dataloader.py\", line 1462, in _shutdown_workers\n",
      "    if w.is_alive():\n",
      "       ^^^^^^^^^^^^\n",
      "  File \"/home/nicolas/mambaforge/envs/gom/lib/python3.11/multiprocessing/process.py\", line 160, in is_alive\n",
      "    assert self._parent_pid == os.getpid(), 'can only test a child process'\n",
      "AssertionError: can only test a child process\n"
     ]
    },
    {
     "name": "stdout",
     "output_type": "stream",
     "text": [
      "────────────────────────────────────────────────────────────────────────────────────────────────────────────────────────\n",
      "       Test metric             DataLoader 0\n",
      "────────────────────────────────────────────────────────────────────────────────────────────────────────────────────────\n",
      "      test/accuracy         0.9639000296592712\n",
      "        test/loss           0.12263163924217224\n",
      "────────────────────────────────────────────────────────────────────────────────────────────────────────────────────────\n"
     ]
    },
    {
     "data": {
      "text/plain": [
       "[{'test/loss': 0.12263163924217224, 'test/accuracy': 0.9639000296592712}]"
      ]
     },
     "execution_count": 78,
     "metadata": {},
     "output_type": "execute_result"
    }
   ],
   "source": [
    "dm = DigitDataModule(MNISTDataset, batch_size=64)\n",
    "\n",
    "model = DigitModuleBaseline()\n",
    "trainer = L.Trainer(\n",
    "  devices=[0], \n",
    "  accelerator=\"gpu\",\n",
    "  max_epochs=10, \n",
    "  logger=[L.pytorch.loggers.TensorBoardLogger(\"tb_logs\", name=\"baseline\")])\n",
    "\n",
    "trainer.fit(model, datamodule=dm)\n",
    "trainer.test(model, datamodule=dm)"
   ]
  },
  {
   "cell_type": "markdown",
   "metadata": {},
   "source": [
    "## Let's sandra it"
   ]
  },
  {
   "cell_type": "code",
   "execution_count": 3,
   "metadata": {},
   "outputs": [],
   "source": [
    "from sandra import Ontology, Situation\n",
    "from sandra.torch import ReasonerModule\n",
    "from functools import partial\n",
    "\n",
    "dc = Ontology.from_graph(\"digital_display.ttl\")\n",
    "reasoner = ReasonerModule(dc, device=\"cuda:0\")"
   ]
  },
  {
   "cell_type": "code",
   "execution_count": 4,
   "metadata": {},
   "outputs": [],
   "source": [
    "class DescribedMNISTDataset(MNIST):\n",
    "    def __init__(self, *args, dc=None, reasoner=None, **kwargs):\n",
    "      super().__init__(*args, **kwargs)\n",
    "      self.dc = dc\n",
    "      self.reasoner = reasoner\n",
    "\n",
    "      self.situation_map = {\n",
    "        0: torch.zeros(len(self.reasoner.ontology.roles)),\n",
    "        1: self.reasoner.encode(Situation([\n",
    "          dc[\"https://w3id.org/geometryofmeaning/digital-display/SegmentBOn\"],\n",
    "          dc[\"https://w3id.org/geometryofmeaning/digital-display/SegmentCOn\"],\n",
    "        ])),\n",
    "        2: self.reasoner.encode(Situation([\n",
    "          dc[\"https://w3id.org/geometryofmeaning/digital-display/SegmentAOn\"],\n",
    "          dc[\"https://w3id.org/geometryofmeaning/digital-display/SegmentBOn\"],\n",
    "          dc[\"https://w3id.org/geometryofmeaning/digital-display/SegmentDOn\"],\n",
    "          dc[\"https://w3id.org/geometryofmeaning/digital-display/SegmentEOn\"],\n",
    "          dc[\"https://w3id.org/geometryofmeaning/digital-display/SegmentGOn\"],\n",
    "        ])),\n",
    "        3: self.reasoner.encode(Situation([\n",
    "          dc[\"https://w3id.org/geometryofmeaning/digital-display/SegmentAOn\"],\n",
    "          dc[\"https://w3id.org/geometryofmeaning/digital-display/SegmentBOn\"],\n",
    "          dc[\"https://w3id.org/geometryofmeaning/digital-display/SegmentCOn\"],\n",
    "          dc[\"https://w3id.org/geometryofmeaning/digital-display/SegmentDOn\"],\n",
    "          dc[\"https://w3id.org/geometryofmeaning/digital-display/SegmentGOn\"],\n",
    "        ])),\n",
    "        4: self.reasoner.encode(Situation([\n",
    "          dc[\"https://w3id.org/geometryofmeaning/digital-display/SegmentBOn\"],\n",
    "          dc[\"https://w3id.org/geometryofmeaning/digital-display/SegmentCOn\"],\n",
    "          dc[\"https://w3id.org/geometryofmeaning/digital-display/SegmentFOn\"],\n",
    "          dc[\"https://w3id.org/geometryofmeaning/digital-display/SegmentGOn\"],\n",
    "        ])),\n",
    "        5: self.reasoner.encode(Situation([\n",
    "          dc[\"https://w3id.org/geometryofmeaning/digital-display/SegmentAOn\"],\n",
    "          dc[\"https://w3id.org/geometryofmeaning/digital-display/SegmentCOn\"],\n",
    "          dc[\"https://w3id.org/geometryofmeaning/digital-display/SegmentDOn\"],\n",
    "          dc[\"https://w3id.org/geometryofmeaning/digital-display/SegmentFOn\"],\n",
    "          dc[\"https://w3id.org/geometryofmeaning/digital-display/SegmentGOn\"],\n",
    "        ])),\n",
    "        6: self.reasoner.encode(Situation([\n",
    "          dc[\"https://w3id.org/geometryofmeaning/digital-display/SegmentAOn\"],\n",
    "          dc[\"https://w3id.org/geometryofmeaning/digital-display/SegmentCOn\"],\n",
    "          dc[\"https://w3id.org/geometryofmeaning/digital-display/SegmentDOn\"],\n",
    "          dc[\"https://w3id.org/geometryofmeaning/digital-display/SegmentEOn\"],\n",
    "          dc[\"https://w3id.org/geometryofmeaning/digital-display/SegmentFOn\"],\n",
    "          dc[\"https://w3id.org/geometryofmeaning/digital-display/SegmentGOn\"],\n",
    "        ])),\n",
    "        7: self.reasoner.encode(Situation([\n",
    "          dc[\"https://w3id.org/geometryofmeaning/digital-display/SegmentAOn\"],\n",
    "          dc[\"https://w3id.org/geometryofmeaning/digital-display/SegmentBOn\"],\n",
    "          dc[\"https://w3id.org/geometryofmeaning/digital-display/SegmentCOn\"]\n",
    "        ])),\n",
    "        8: self.reasoner.encode(Situation([\n",
    "          dc[\"https://w3id.org/geometryofmeaning/digital-display/SegmentAOn\"],\n",
    "          dc[\"https://w3id.org/geometryofmeaning/digital-display/SegmentBOn\"],\n",
    "          dc[\"https://w3id.org/geometryofmeaning/digital-display/SegmentCOn\"],\n",
    "          dc[\"https://w3id.org/geometryofmeaning/digital-display/SegmentDOn\"],\n",
    "          dc[\"https://w3id.org/geometryofmeaning/digital-display/SegmentEOn\"],\n",
    "          dc[\"https://w3id.org/geometryofmeaning/digital-display/SegmentFOn\"],\n",
    "          dc[\"https://w3id.org/geometryofmeaning/digital-display/SegmentGOn\"],\n",
    "        ])),\n",
    "        9: self.reasoner.encode(Situation([\n",
    "          dc[\"https://w3id.org/geometryofmeaning/digital-display/SegmentAOn\"],\n",
    "          dc[\"https://w3id.org/geometryofmeaning/digital-display/SegmentBOn\"],\n",
    "          dc[\"https://w3id.org/geometryofmeaning/digital-display/SegmentCOn\"],\n",
    "          dc[\"https://w3id.org/geometryofmeaning/digital-display/SegmentDOn\"],\n",
    "          dc[\"https://w3id.org/geometryofmeaning/digital-display/SegmentFOn\"],\n",
    "          dc[\"https://w3id.org/geometryofmeaning/digital-display/SegmentGOn\"],\n",
    "        ]))\n",
    "      }\n",
    "\n",
    "    def __getitem__(self, idx):\n",
    "        image, label = super().__getitem__(idx)\n",
    "        return image, self.situation_map[label], label\n",
    "\n",
    "\n",
    "class DescribedMNISTDatasetWithNegation(MNIST):\n",
    "    def __init__(self, *args, dc=None, reasoner=None, **kwargs):\n",
    "      super().__init__(*args, **kwargs)\n",
    "      self.dc = dc\n",
    "      self.reasoner = reasoner\n",
    "\n",
    "      self.situation_map = {\n",
    "        0: self.reasoner.encode(Situation([\n",
    "          dc[\"https://w3id.org/geometryofmeaning/digital-display/SegmentAOff\"],\n",
    "          dc[\"https://w3id.org/geometryofmeaning/digital-display/SegmentBOff\"],\n",
    "          dc[\"https://w3id.org/geometryofmeaning/digital-display/SegmentCOff\"],\n",
    "          dc[\"https://w3id.org/geometryofmeaning/digital-display/SegmentDOff\"],\n",
    "          dc[\"https://w3id.org/geometryofmeaning/digital-display/SegmentEOff\"],\n",
    "          dc[\"https://w3id.org/geometryofmeaning/digital-display/SegmentFOff\"],\n",
    "          dc[\"https://w3id.org/geometryofmeaning/digital-display/SegmentGOff\"],\n",
    "        ])),\n",
    "        1: self.reasoner.encode(Situation([\n",
    "          dc[\"https://w3id.org/geometryofmeaning/digital-display/SegmentAOff\"],\n",
    "          dc[\"https://w3id.org/geometryofmeaning/digital-display/SegmentBOn\"],\n",
    "          dc[\"https://w3id.org/geometryofmeaning/digital-display/SegmentCOn\"],\n",
    "          dc[\"https://w3id.org/geometryofmeaning/digital-display/SegmentDOff\"],\n",
    "          dc[\"https://w3id.org/geometryofmeaning/digital-display/SegmentEOff\"],\n",
    "          dc[\"https://w3id.org/geometryofmeaning/digital-display/SegmentFOff\"],\n",
    "          dc[\"https://w3id.org/geometryofmeaning/digital-display/SegmentGOff\"],\n",
    "        ])),\n",
    "        2: self.reasoner.encode(Situation([\n",
    "          dc[\"https://w3id.org/geometryofmeaning/digital-display/SegmentAOn\"],\n",
    "          dc[\"https://w3id.org/geometryofmeaning/digital-display/SegmentBOn\"],\n",
    "          dc[\"https://w3id.org/geometryofmeaning/digital-display/SegmentCOff\"],\n",
    "          dc[\"https://w3id.org/geometryofmeaning/digital-display/SegmentDOn\"],\n",
    "          dc[\"https://w3id.org/geometryofmeaning/digital-display/SegmentEOn\"],\n",
    "          dc[\"https://w3id.org/geometryofmeaning/digital-display/SegmentFOff\"],\n",
    "          dc[\"https://w3id.org/geometryofmeaning/digital-display/SegmentGOn\"],\n",
    "        ])),\n",
    "        3: self.reasoner.encode(Situation([\n",
    "          dc[\"https://w3id.org/geometryofmeaning/digital-display/SegmentAOn\"],\n",
    "          dc[\"https://w3id.org/geometryofmeaning/digital-display/SegmentBOn\"],\n",
    "          dc[\"https://w3id.org/geometryofmeaning/digital-display/SegmentCOn\"],\n",
    "          dc[\"https://w3id.org/geometryofmeaning/digital-display/SegmentDOn\"],\n",
    "          dc[\"https://w3id.org/geometryofmeaning/digital-display/SegmentEOff\"],\n",
    "          dc[\"https://w3id.org/geometryofmeaning/digital-display/SegmentFOff\"],\n",
    "          dc[\"https://w3id.org/geometryofmeaning/digital-display/SegmentGOn\"],\n",
    "        ])),\n",
    "        4: self.reasoner.encode(Situation([\n",
    "          dc[\"https://w3id.org/geometryofmeaning/digital-display/SegmentAOff\"],\n",
    "          dc[\"https://w3id.org/geometryofmeaning/digital-display/SegmentBOn\"],\n",
    "          dc[\"https://w3id.org/geometryofmeaning/digital-display/SegmentCOn\"],\n",
    "          dc[\"https://w3id.org/geometryofmeaning/digital-display/SegmentDOff\"],\n",
    "          dc[\"https://w3id.org/geometryofmeaning/digital-display/SegmentEOff\"],\n",
    "          dc[\"https://w3id.org/geometryofmeaning/digital-display/SegmentFOn\"],\n",
    "          dc[\"https://w3id.org/geometryofmeaning/digital-display/SegmentGOn\"],\n",
    "        ])),\n",
    "        5: self.reasoner.encode(Situation([\n",
    "          dc[\"https://w3id.org/geometryofmeaning/digital-display/SegmentAOn\"],\n",
    "          dc[\"https://w3id.org/geometryofmeaning/digital-display/SegmentBOff\"],\n",
    "          dc[\"https://w3id.org/geometryofmeaning/digital-display/SegmentCOn\"],\n",
    "          dc[\"https://w3id.org/geometryofmeaning/digital-display/SegmentDOn\"],\n",
    "          dc[\"https://w3id.org/geometryofmeaning/digital-display/SegmentEOff\"],\n",
    "          dc[\"https://w3id.org/geometryofmeaning/digital-display/SegmentFOn\"],\n",
    "          dc[\"https://w3id.org/geometryofmeaning/digital-display/SegmentGOn\"],\n",
    "        ])),\n",
    "        6: self.reasoner.encode(Situation([\n",
    "          dc[\"https://w3id.org/geometryofmeaning/digital-display/SegmentAOn\"],\n",
    "          dc[\"https://w3id.org/geometryofmeaning/digital-display/SegmentBOff\"],\n",
    "          dc[\"https://w3id.org/geometryofmeaning/digital-display/SegmentCOn\"],\n",
    "          dc[\"https://w3id.org/geometryofmeaning/digital-display/SegmentDOn\"],\n",
    "          dc[\"https://w3id.org/geometryofmeaning/digital-display/SegmentEOn\"],\n",
    "          dc[\"https://w3id.org/geometryofmeaning/digital-display/SegmentFOn\"],\n",
    "          dc[\"https://w3id.org/geometryofmeaning/digital-display/SegmentGOn\"],\n",
    "        ])),\n",
    "        7: self.reasoner.encode(Situation([\n",
    "          dc[\"https://w3id.org/geometryofmeaning/digital-display/SegmentAOn\"],\n",
    "          dc[\"https://w3id.org/geometryofmeaning/digital-display/SegmentBOn\"],\n",
    "          dc[\"https://w3id.org/geometryofmeaning/digital-display/SegmentCOn\"],\n",
    "          dc[\"https://w3id.org/geometryofmeaning/digital-display/SegmentDOff\"],\n",
    "          dc[\"https://w3id.org/geometryofmeaning/digital-display/SegmentEOff\"],\n",
    "          dc[\"https://w3id.org/geometryofmeaning/digital-display/SegmentFOff\"],\n",
    "          dc[\"https://w3id.org/geometryofmeaning/digital-display/SegmentGOff\"],\n",
    "        ])),\n",
    "        8: self.reasoner.encode(Situation([\n",
    "          dc[\"https://w3id.org/geometryofmeaning/digital-display/SegmentAOn\"],\n",
    "          dc[\"https://w3id.org/geometryofmeaning/digital-display/SegmentBOn\"],\n",
    "          dc[\"https://w3id.org/geometryofmeaning/digital-display/SegmentCOn\"],\n",
    "          dc[\"https://w3id.org/geometryofmeaning/digital-display/SegmentDOn\"],\n",
    "          dc[\"https://w3id.org/geometryofmeaning/digital-display/SegmentEOn\"],\n",
    "          dc[\"https://w3id.org/geometryofmeaning/digital-display/SegmentFOn\"],\n",
    "          dc[\"https://w3id.org/geometryofmeaning/digital-display/SegmentGOn\"],\n",
    "        ])),\n",
    "        9: self.reasoner.encode(Situation([\n",
    "          dc[\"https://w3id.org/geometryofmeaning/digital-display/SegmentAOn\"],\n",
    "          dc[\"https://w3id.org/geometryofmeaning/digital-display/SegmentBOn\"],\n",
    "          dc[\"https://w3id.org/geometryofmeaning/digital-display/SegmentCOn\"],\n",
    "          dc[\"https://w3id.org/geometryofmeaning/digital-display/SegmentDOn\"],\n",
    "          dc[\"https://w3id.org/geometryofmeaning/digital-display/SegmentEOff\"],\n",
    "          dc[\"https://w3id.org/geometryofmeaning/digital-display/SegmentFOn\"],\n",
    "          dc[\"https://w3id.org/geometryofmeaning/digital-display/SegmentGOn\"],\n",
    "        ]))\n",
    "      }\n",
    "\n",
    "    def __getitem__(self, idx):\n",
    "        image, label = super().__getitem__(idx)\n",
    "        return image, self.situation_map[label], label\n",
    "\n",
    "dataset = partial(DescribedMNISTDataset, dc=dc, reasoner=reasoner)"
   ]
  },
  {
   "cell_type": "markdown",
   "metadata": {},
   "source": [
    "Define the new model with the projection"
   ]
  },
  {
   "cell_type": "code",
   "execution_count": 7,
   "metadata": {},
   "outputs": [],
   "source": [
    "class SandraDigitModule(DigitModuleBaseline):\n",
    "    def __init__(self, reasoner):\n",
    "        super().__init__()\n",
    "        self.reasoner = reasoner\n",
    "        \n",
    "        self.mlp = nn.Sequential(\n",
    "            nn.Linear(784, 64),\n",
    "            nn.ReLU(),\n",
    "            nn.Linear(64, len(self.reasoner.ontology.roles)))\n",
    "\n",
    "        # llll\n",
    "\n",
    "        self.back_mlp = nn.Sequential(\n",
    "            nn.Linear(len(self.reasoner.ontology.roles), 64),\n",
    "            nn.ReLU(),\n",
    "            nn.Linear(64, 784),\n",
    "            nn.ReLU())\n",
    "\n",
    "        self.classifier = nn.Linear(len(self.reasoner.ontology.roles) + len(self.reasoner.ontology.descriptions), 10)\n",
    "        #self.classifier = nn.Linear(len(self.reasoner.ontology), 10)\n",
    "        #self.classifier = nn.Linear(len(self.reasoner.ontology.descriptions), 10)\n",
    "        \n",
    "    def data_step(self, batch, log_name):\n",
    "        x, situation, y = batch\n",
    "\n",
    "        x = x.view(-1, 784)\n",
    "        \n",
    "        proj = self.mlp(x)\n",
    "        \n",
    "        recon = self.back_mlp(proj)\n",
    "        recon_approx_loss = F.mse_loss(recon, x)\n",
    "        recon = self.back_mlp(situation)\n",
    "        recon_sandra_loss = F.mse_loss(recon, x)\n",
    "        recon_loss = recon_approx_loss + recon_sandra_loss\n",
    "\n",
    "        situation_inf = self.reasoner(situation)\n",
    "        proj_inf = self.reasoner(proj.float())\n",
    "        #inference_loss = F.mse_loss(proj_inf, situation_inf)\n",
    "        inference_loss = F.kl_div(torch.log(proj_inf + 1e-10).T, situation_inf.T)\n",
    "        self.log(f\"{log_name}/inference_loss\", inference_loss, prog_bar=True)\n",
    "\n",
    "        x = torch.cat([proj, situation_inf], dim=1)\n",
    "        pred = self.classifier(x)\n",
    "        classification_loss_sandra = F.cross_entropy(pred, y)\n",
    "        \n",
    "        x = torch.cat([proj, proj_inf], dim=1)\n",
    "        pred = self.classifier(x)\n",
    "        classification_loss_approx = F.cross_entropy(pred, y)\n",
    "        \n",
    "        classification_loss = classification_loss_approx + classification_loss_sandra\n",
    "        \n",
    "        self.log(f\"{log_name}/classification_loss\", classification_loss, prog_bar=True)\n",
    "\n",
    "        acc = mF.accuracy(pred, y, task=\"multiclass\", num_classes=10)\n",
    "        self.log(f\"{log_name}/accuracy\", acc, prog_bar=True)\n",
    "        \n",
    "        loss = classification_loss + inference_loss + recon_loss\n",
    "        \n",
    "        return pred, loss, acc\n",
    "\n",
    "    def configure_optimizers(self):\n",
    "        return optim.Adam(self.parameters(), lr=1e-3)"
   ]
  },
  {
   "cell_type": "code",
   "execution_count": 8,
   "metadata": {},
   "outputs": [
    {
     "name": "stderr",
     "output_type": "stream",
     "text": [
      "GPU available: True (cuda), used: True\n",
      "TPU available: False, using: 0 TPU cores\n",
      "IPU available: False, using: 0 IPUs\n",
      "HPU available: False, using: 0 HPUs\n",
      "LOCAL_RANK: 0 - CUDA_VISIBLE_DEVICES: [0,1]\n",
      "\n",
      "  | Name       | Type           | Params\n",
      "----------------------------------------------\n",
      "0 | mlp        | Sequential     | 50.8 K\n",
      "1 | classifier | Linear         | 190   \n",
      "2 | reasoner   | ReasonerModule | 0     \n",
      "3 | back_mlp   | Sequential     | 51.6 K\n",
      "----------------------------------------------\n",
      "102 K     Trainable params\n",
      "0         Non-trainable params\n",
      "102 K     Total params\n",
      "0.410     Total estimated model params size (MB)\n"
     ]
    },
    {
     "data": {
      "application/vnd.jupyter.widget-view+json": {
       "model_id": "",
       "version_major": 2,
       "version_minor": 0
      },
      "text/plain": [
       "Sanity Checking: |                                                                                            …"
      ]
     },
     "metadata": {},
     "output_type": "display_data"
    },
    {
     "name": "stderr",
     "output_type": "stream",
     "text": [
      "/home/nicolas/mambaforge/envs/gom/lib/python3.11/site-packages/torch/nn/functional.py:2949: UserWarning: reduction: 'mean' divides the total loss by both the batch size and the support size.'batchmean' divides only by the batch size, and aligns with the KL div math definition.'mean' will be changed to behave the same as 'batchmean' in the next major release.\n",
      "  warnings.warn(\n"
     ]
    },
    {
     "data": {
      "application/vnd.jupyter.widget-view+json": {
       "model_id": "97e8912ef8d649b79913d7bc85a13bb1",
       "version_major": 2,
       "version_minor": 0
      },
      "text/plain": [
       "Training: |                                                                                                   …"
      ]
     },
     "metadata": {},
     "output_type": "display_data"
    },
    {
     "data": {
      "application/vnd.jupyter.widget-view+json": {
       "model_id": "",
       "version_major": 2,
       "version_minor": 0
      },
      "text/plain": [
       "Validation: |                                                                                                 …"
      ]
     },
     "metadata": {},
     "output_type": "display_data"
    },
    {
     "data": {
      "application/vnd.jupyter.widget-view+json": {
       "model_id": "",
       "version_major": 2,
       "version_minor": 0
      },
      "text/plain": [
       "Validation: |                                                                                                 …"
      ]
     },
     "metadata": {},
     "output_type": "display_data"
    },
    {
     "data": {
      "application/vnd.jupyter.widget-view+json": {
       "model_id": "",
       "version_major": 2,
       "version_minor": 0
      },
      "text/plain": [
       "Validation: |                                                                                                 …"
      ]
     },
     "metadata": {},
     "output_type": "display_data"
    },
    {
     "name": "stderr",
     "output_type": "stream",
     "text": [
      "/home/nicolas/mambaforge/envs/gom/lib/python3.11/site-packages/lightning/pytorch/trainer/call.py:54: Detected KeyboardInterrupt, attempting graceful shutdown...\n",
      "LOCAL_RANK: 0 - CUDA_VISIBLE_DEVICES: [0,1]\n"
     ]
    },
    {
     "data": {
      "application/vnd.jupyter.widget-view+json": {
       "model_id": "548ea747b7254ff4a6dc8c5b10fe4813",
       "version_major": 2,
       "version_minor": 0
      },
      "text/plain": [
       "Testing: |                                                                                                    …"
      ]
     },
     "metadata": {},
     "output_type": "display_data"
    },
    {
     "name": "stdout",
     "output_type": "stream",
     "text": [
      "────────────────────────────────────────────────────────────────────────────────────────────────────────────────────────\n",
      "       Test metric             DataLoader 0\n",
      "────────────────────────────────────────────────────────────────────────────────────────────────────────────────────────\n",
      "      test/accuracy         0.7734000086784363\n",
      "test/classification_loss     1.195218801498413\n",
      "   test/inference_loss     -0.14421771466732025\n",
      "────────────────────────────────────────────────────────────────────────────────────────────────────────────────────────\n"
     ]
    },
    {
     "data": {
      "text/plain": [
       "[{'test/inference_loss': -0.14421771466732025,\n",
       "  'test/classification_loss': 1.195218801498413,\n",
       "  'test/accuracy': 0.7734000086784363}]"
      ]
     },
     "execution_count": 8,
     "metadata": {},
     "output_type": "execute_result"
    }
   ],
   "source": [
    "dm = DigitDataModule(dataset, batch_size=64)\n",
    "\n",
    "reasoner.device = \"cuda:0\"\n",
    "model = SandraDigitModule(reasoner)\n",
    "trainer = L.Trainer(\n",
    "  devices=[0], \n",
    "  accelerator=\"gpu\",\n",
    "  max_epochs=10)\n",
    "\n",
    "trainer.fit(model, datamodule=dm)\n",
    "trainer.test(model, datamodule=dm)"
   ]
  },
  {
   "cell_type": "code",
   "execution_count": 9,
   "metadata": {},
   "outputs": [],
   "source": [
    "x, situation, y = next(iter(dm.test_dataloader()))"
   ]
  },
  {
   "cell_type": "code",
   "execution_count": 10,
   "metadata": {},
   "outputs": [],
   "source": [
    "IDX = 10"
   ]
  },
  {
   "cell_type": "code",
   "execution_count": 11,
   "metadata": {},
   "outputs": [
    {
     "data": {
      "image/png": "[encoded data removed]",
      "text/plain": [
       "<Figure size 640x480 with 3 Axes>"
      ]
     },
     "metadata": {},
     "output_type": "display_data"
    }
   ],
   "source": [
    "proj = model.mlp(x.reshape(-1, 784))\n",
    "recon = model.back_mlp(proj).reshape(-1, 28, 28)\n",
    "recon_s = model.back_mlp(situation).reshape(-1, 28, 28)\n",
    "\n",
    "fig, axs = plt.subplots(1, 3)\n",
    "axs[0].imshow(x[IDX, 0], cmap=\"gray\")\n",
    "axs[0].set_title(\"Original\")\n",
    "\n",
    "axs[1].imshow(recon[IDX].detach().cpu(), cmap=\"gray\")\n",
    "axs[1].set_title(\"Learned situation\")\n",
    "\n",
    "axs[2].imshow(recon_s[IDX].detach().cpu(), cmap=\"gray\")\n",
    "axs[2].set_title(\"sandra situation\")\n",
    "plt.show()"
   ]
  },
  {
   "cell_type": "code",
   "execution_count": 15,
   "metadata": {},
   "outputs": [],
   "source": [
    "reasoner.device = \"cpu\"\n",
    "inf = reasoner(proj)\n",
    "inf_s = reasoner(situation)\n",
    "pred = model.classifier(torch.cat([proj, inf], dim=1)).argmax(-1)"
   ]
  },
  {
   "cell_type": "code",
   "execution_count": 22,
   "metadata": {},
   "outputs": [
    {
     "data": {
      "text/plain": [
       "tensor(0., grad_fn=<MinBackward1>)"
      ]
     },
     "execution_count": 22,
     "metadata": {},
     "output_type": "execute_result"
    }
   ],
   "source": [
    "#torch.log(inf_s.T) \n",
    "#(torch.log(inf_s.T + 1e-5) * (torch.log(inf_s.T + 1e-5) - torch.log(inf.T + 1e-5))).min()"
   ]
  },
  {
   "cell_type": "code",
   "execution_count": 188,
   "metadata": {},
   "outputs": [
    {
     "name": "stdout",
     "output_type": "stream",
     "text": [
      "Pred tensor(0)\n",
      "Target tensor(0)\n",
      "Inferred situation: \n",
      "\t https://w3id.org/geometryofmeaning/digital-display/SegmentAOn\n",
      "\t https://w3id.org/geometryofmeaning/digital-display/SegmentCOn\n",
      "\t https://w3id.org/geometryofmeaning/digital-display/SegmentDOff\n",
      "\t https://w3id.org/geometryofmeaning/digital-display/SegmentFOff\n",
      "\t https://w3id.org/geometryofmeaning/digital-display/7SegmentNumber\n",
      "Inferred descriptions\n",
      "\t https://w3id.org/geometryofmeaning/digital-display/Number0  | Score:  0.2857142984867096\n",
      "\t https://w3id.org/geometryofmeaning/digital-display/Number1  | Score:  0.4285714328289032\n",
      "\t https://w3id.org/geometryofmeaning/digital-display/Number2  | Score:  0.2857142984867096\n",
      "\t https://w3id.org/geometryofmeaning/digital-display/Number3  | Score:  0.4285714328289032\n",
      "\t https://w3id.org/geometryofmeaning/digital-display/Number4  | Score:  0.2857142984867096\n",
      "\t https://w3id.org/geometryofmeaning/digital-display/Number5  | Score:  0.2857142984867096\n",
      "\t https://w3id.org/geometryofmeaning/digital-display/Number6  | Score:  0.2857142984867096\n",
      "\t https://w3id.org/geometryofmeaning/digital-display/Number7  | Score:  0.5714285969734192\n",
      "\t https://w3id.org/geometryofmeaning/digital-display/Number8  | Score:  0.2857142984867096\n",
      "\t https://w3id.org/geometryofmeaning/digital-display/Number9  | Score:  0.2857142984867096\n"
     ]
    },
    {
     "data": {
      "image/png": "[encoded data removed]",
      "text/plain": [
       "<Figure size 640x480 with 1 Axes>"
      ]
     },
     "metadata": {},
     "output_type": "display_data"
    },
    {
     "data": {
      "image/png": "[encoded data removed]",
      "text/plain": [
       "<Figure size 640x480 with 1 Axes>"
      ]
     },
     "metadata": {},
     "output_type": "display_data"
    }
   ],
   "source": [
    "print(\"Pred\", pred[IDX])\n",
    "print(\"Target\", y[IDX])\n",
    "\n",
    "ort = F.normalize(proj) @ reasoner.basis.T\n",
    "inferred_situation = [reasoner.ontology.elements[i] for i in torch.where(ort[IDX] > 0)[0]]\n",
    "print(\"Inferred situation: \\n\\t\", \"\\n\\t \".join([str(e) for e in inferred_situation]))\n",
    "\n",
    "print(\"Inferred descriptions\")\n",
    "for i, score in enumerate(inf[IDX]):\n",
    "    print(\"\\t\", reasoner.ontology.descriptions[i].name, \" | Score: \", score.item())\n",
    "\n",
    "im = x[IDX, 0].reshape(28, 28)\n",
    "plt.imshow(im, cmap=\"gray\", vmin=0, vmax=1)\n",
    "plt.show()\n",
    "\n",
    "seven_seg = [1 if r in inferred_situation else 0 for r in reasoner.ontology.roles if \"On\" in r.name]\n",
    "seven_seg = [0] + [seven_seg[0]] + [0] + seven_seg[1:5] + [0] + seven_seg[6:9] + [0] + [seven_seg[-1]] + [0]\n",
    "plt.imshow(torch.tensor(seven_seg).reshape(4, 3))\n",
    "plt.show()"
   ]
  },
  {
   "cell_type": "code",
   "execution_count": null,
   "metadata": {},
   "outputs": [],
   "source": []
  }
 ],
 "metadata": {
  "kernelspec": {
   "display_name": "Python 3 (ipykernel)",
   "language": "python",
   "name": "python3"
  },
  "language_info": {
   "codemirror_mode": {
    "name": "ipython",
    "version": 3
   },
   "file_extension": ".py",
   "mimetype": "text/x-python",
   "name": "python",
   "nbconvert_exporter": "python",
   "pygments_lexer": "ipython3",
   "version": "3.11.0"
  }
 },
 "nbformat": 4,
 "nbformat_minor": 4
}
