{
 "cells": [
  {
   "cell_type": "code",
   "execution_count": 106,
   "id": "cc403979-3b07-400e-abf7-6757ed770aa1",
   "metadata": {},
   "outputs": [],
   "source": [
    "from sklearn.datasets import fetch_20newsgroups\n",
    "from sklearn.preprocessing import LabelEncoder\n",
    "from sklearn.model_selection import train_test_split\n",
    "from sklearn.metrics import classification_report\n",
    "from sklearn.tree import DecisionTreeClassifier\n",
    "from sklearn.svm import SVC\n",
    "from sklearn.linear_model import LogisticRegression\n",
    "from sklearn.feature_extraction.text import CountVectorizer\n",
    "\n",
    "import numpy as np\n",
    "import torch\n",
    "import json\n",
    "\n",
    "import sandra\n",
    "from sandra.torch import ReasonerModule"
   ]
  },
  {
   "cell_type": "markdown",
   "id": "dcde171c-edfd-4353-b9eb-8b092107222f",
   "metadata": {},
   "source": [
    "# Load the dataset"
   ]
  },
  {
   "cell_type": "code",
   "execution_count": 145,
   "id": "6a43696e-cc11-408c-a08a-4ab7c271cda9",
   "metadata": {},
   "outputs": [],
   "source": [
    "dataset = [json.loads(l) for l in open(\"dataset.jsonl\").readlines()]\n",
    "data = {}\n",
    "data[\"text\"] = [sample[\"text\"] for sample in dataset]\n",
    "data[\"role\"] = [sample[\"roles\"] for sample in dataset]\n",
    "data[\"label\"] = [sample[\"label\"] for sample in dataset]\n",
    "\n",
    "targets = set(data[\"label\"])"
   ]
  },
  {
   "cell_type": "code",
   "execution_count": 146,
   "id": "2466020c-460a-4f5a-872b-bd6256c18a05",
   "metadata": {},
   "outputs": [
    {
     "name": "stdout",
     "output_type": "stream",
     "text": [
      "150 samples\n",
      "targets:  {'Bathroom', 'DiningRoom', 'Bedroom', 'Kitchen', 'LivingRoom'}\n"
     ]
    }
   ],
   "source": [
    "print(len(data[\"text\"]), \"samples\")\n",
    "print(\"targets: \", targets)"
   ]
  },
  {
   "cell_type": "markdown",
   "id": "5327316c-64bd-4b68-b2e4-13f53c111a4c",
   "metadata": {},
   "source": [
    "## Feature based"
   ]
  },
  {
   "cell_type": "code",
   "execution_count": 147,
   "id": "095d1c69-f439-4403-aa76-374ca4445227",
   "metadata": {},
   "outputs": [],
   "source": [
    "X = data[\"text\"]\n",
    "\n",
    "# turn target into numerical values\n",
    "le = LabelEncoder()\n",
    "y = le.fit_transform(data[\"label\"])"
   ]
  },
  {
   "cell_type": "markdown",
   "id": "0b34f29b-af30-407a-9d31-ecc9b4ab7f52",
   "metadata": {},
   "source": [
    "### N-grams"
   ]
  },
  {
   "cell_type": "code",
   "execution_count": 156,
   "id": "2932ec37-923e-498a-b06a-e130e1847246",
   "metadata": {},
   "outputs": [],
   "source": [
    "vectorizer = CountVectorizer() # only take 3 grams\n",
    "X_vec = vectorizer.fit_transform(X)"
   ]
  },
  {
   "cell_type": "code",
   "execution_count": 157,
   "id": "6ee5817c-71ef-4b67-9419-21952f251e2f",
   "metadata": {},
   "outputs": [],
   "source": [
    "# split into train and test\n",
    "X_train, X_test, y_train, y_test = train_test_split(X_vec, y, test_size=0.3, random_state=42)"
   ]
  },
  {
   "cell_type": "markdown",
   "id": "87df34df-b292-4ff7-af0d-b65035537762",
   "metadata": {},
   "source": [
    "Classify"
   ]
  },
  {
   "cell_type": "code",
   "execution_count": 158,
   "id": "06924014-3cde-411f-9fa1-f91bcdb32479",
   "metadata": {},
   "outputs": [
    {
     "name": "stdout",
     "output_type": "stream",
     "text": [
      "              precision    recall  f1-score   support\n",
      "\n",
      "    Bathroom       0.88      0.88      0.88         8\n",
      "  DiningRoom       1.00      0.89      0.94         9\n",
      "     Bedroom       1.00      1.00      1.00         9\n",
      "     Kitchen       1.00      1.00      1.00        10\n",
      "  LivingRoom       0.80      0.89      0.84         9\n",
      "\n",
      "    accuracy                           0.93        45\n",
      "   macro avg       0.93      0.93      0.93        45\n",
      "weighted avg       0.94      0.93      0.93        45\n",
      "\n"
     ]
    }
   ],
   "source": [
    "clf = DecisionTreeClassifier(random_state=42)\n",
    "clf.fit(X_train, y_train)\n",
    "\n",
    "pred = clf.predict(X_test)\n",
    "\n",
    "print(classification_report(y_test, pred, zero_division=0, target_names=targets))"
   ]
  },
  {
   "cell_type": "code",
   "execution_count": 159,
   "id": "9a781987-696e-4a8c-a8ef-2bf8f64080cd",
   "metadata": {},
   "outputs": [
    {
     "name": "stdout",
     "output_type": "stream",
     "text": [
      "              precision    recall  f1-score   support\n",
      "\n",
      "    Bathroom       1.00      1.00      1.00         8\n",
      "  DiningRoom       1.00      1.00      1.00         9\n",
      "     Bedroom       1.00      1.00      1.00         9\n",
      "     Kitchen       1.00      1.00      1.00        10\n",
      "  LivingRoom       1.00      1.00      1.00         9\n",
      "\n",
      "    accuracy                           1.00        45\n",
      "   macro avg       1.00      1.00      1.00        45\n",
      "weighted avg       1.00      1.00      1.00        45\n",
      "\n"
     ]
    }
   ],
   "source": [
    "clf = SVC(random_state=42)\n",
    "clf.fit(X_train, y_train)\n",
    "\n",
    "pred = clf.predict(X_test)\n",
    "\n",
    "print(classification_report(y_test, pred, zero_division=0, target_names=targets))"
   ]
  },
  {
   "cell_type": "markdown",
   "id": "09dafa2b-fb48-4b3f-88c0-836be1029f48",
   "metadata": {},
   "source": [
    "### Deductive approach - sandra"
   ]
  },
  {
   "cell_type": "code",
   "execution_count": 160,
   "id": "bc0171ef-d2d5-4e2a-a7dc-b9724585bf60",
   "metadata": {},
   "outputs": [
    {
     "name": "stdout",
     "output_type": "stream",
     "text": [
      "Descriptions:  5\n",
      "Role:  15\n"
     ]
    }
   ],
   "source": [
    "ontology = sandra.Ontology.from_graph(\"sandra101.ttl\")\n",
    "\n",
    "print(\"Descriptions: \", len(ontology.descriptions))\n",
    "print(\"Role: \", len(ontology.roles))"
   ]
  },
  {
   "cell_type": "markdown",
   "id": "50d10e3d-81d1-4d2c-b9c2-c7ba3cc001ad",
   "metadata": {},
   "source": [
    "Build the situations"
   ]
  },
  {
   "cell_type": "code",
   "execution_count": 161,
   "id": "429cd660-4e44-4c76-a4ab-232a82250301",
   "metadata": {},
   "outputs": [],
   "source": [
    "# build the role name -> role dictionary\n",
    "rolename2role = { r.name.split(\"#\")[1]: r for r in ontology.roles}\n",
    "\n",
    "# map each role to a situation\n",
    "situations = [\n",
    "    sandra.Situation([rolename2role[r] for r in sample])\n",
    "    for sample in data[\"role\"]\n",
    "]"
   ]
  },
  {
   "cell_type": "markdown",
   "id": "9d97cc4a-91f9-4ec8-b976-b6edf73c6271",
   "metadata": {},
   "source": [
    "create reasoner"
   ]
  },
  {
   "cell_type": "code",
   "execution_count": 162,
   "id": "b2bd6b12-4292-404b-95ff-ffcc5bb599c4",
   "metadata": {},
   "outputs": [],
   "source": [
    "reasoner = ReasonerModule(ontology)"
   ]
  },
  {
   "cell_type": "code",
   "execution_count": 163,
   "id": "74572abe-898b-43fd-b3bd-d3dec617a7db",
   "metadata": {},
   "outputs": [
    {
     "name": "stdout",
     "output_type": "stream",
     "text": [
      "text:  The spacious bathroom features a modern shower system, under-sink cabinets for hygiene products, and decorative candles on the shelves.\n"
     ]
    }
   ],
   "source": [
    "sample = situations[0]\n",
    "print(\"text: \", data[\"text\"][0])"
   ]
  },
  {
   "cell_type": "code",
   "execution_count": 164,
   "id": "a3d25245-db93-4ab5-ad0f-2fe5987abf82",
   "metadata": {},
   "outputs": [
    {
     "data": {
      "text/plain": [
       "tensor([0., 0., 0., 1., 0., 0., 0., 1., 1., 0., 0., 0., 0., 0., 0.])"
      ]
     },
     "execution_count": 164,
     "metadata": {},
     "output_type": "execute_result"
    }
   ],
   "source": [
    "# compute the encoding\n",
    "encoded_sample = reasoner.encode(sample)\n",
    "encoded_sample"
   ]
  },
  {
   "cell_type": "markdown",
   "id": "059a61a6-513f-428e-b2ad-3e26526c924f",
   "metadata": {},
   "source": [
    "infer"
   ]
  },
  {
   "cell_type": "code",
   "execution_count": 165,
   "id": "f415b40b-fa51-4d1a-b5ae-48956461c42e",
   "metadata": {},
   "outputs": [
    {
     "data": {
      "text/plain": [
       "tensor([1.0000, 0.0000, 0.3333, 0.0000, 0.3333])"
      ]
     },
     "execution_count": 165,
     "metadata": {},
     "output_type": "execute_result"
    }
   ],
   "source": [
    "inference = reasoner(encoded_sample)[0]\n",
    "inference"
   ]
  },
  {
   "cell_type": "code",
   "execution_count": 166,
   "id": "a4c31a0c-7f64-49b0-81ed-b1cf9077f317",
   "metadata": {},
   "outputs": [
    {
     "name": "stdout",
     "output_type": "stream",
     "text": [
      "https://w3id.org/sandra/sandra101#Bathroom  - Probability:  1.0\n",
      "\t + https://w3id.org/sandra/sandra101#HygieneProducts\n",
      "\t + https://w3id.org/sandra/sandra101#HygieneEquipment\n",
      "https://w3id.org/sandra/sandra101#Bedroom  - Probability:  0.0\n",
      "\t - https://w3id.org/sandra/sandra101#PersonalItems\n",
      "\t - https://w3id.org/sandra/sandra101#ClothingStorage\n",
      "\t - https://w3id.org/sandra/sandra101#SleepingFurniture\n",
      "https://w3id.org/sandra/sandra101#DiningRoom  - Probability:  0.3333333432674408\n",
      "\t + https://w3id.org/sandra/sandra101#DecorativeItems\n",
      "\t - https://w3id.org/sandra/sandra101#DiningFurniture\n",
      "\t - https://w3id.org/sandra/sandra101#ServingItems\n",
      "https://w3id.org/sandra/sandra101#Kitchen  - Probability:  0.0\n",
      "\t - https://w3id.org/sandra/sandra101#FoodStorage\n",
      "\t - https://w3id.org/sandra/sandra101#CookingUtensil\n",
      "\t - https://w3id.org/sandra/sandra101#CookingAppliance\n",
      "https://w3id.org/sandra/sandra101#LivingRoom  - Probability:  0.3333333432674408\n",
      "\t + https://w3id.org/sandra/sandra101#DecorativeItems\n",
      "\t - https://w3id.org/sandra/sandra101#SeatingFurniture\n",
      "\t - https://w3id.org/sandra/sandra101#EntertainmentDevices\n"
     ]
    }
   ],
   "source": [
    "for idx, p in enumerate(inference):\n",
    "    print(ontology.descriptions[idx].name, \" - Probability: \", p.item())\n",
    "\n",
    "    for role in ontology.descriptions[idx].components:\n",
    "        print(\"\\t\", \"+\" if role in sample.individuals else \"-\", role.name)"
   ]
  },
  {
   "cell_type": "markdown",
   "id": "cf214163-83be-4af0-aba0-c7ef045139d2",
   "metadata": {},
   "source": [
    "infer all"
   ]
  },
  {
   "cell_type": "code",
   "execution_count": 167,
   "id": "8f7cdd59-c872-42c4-8346-2b4668f5f1f5",
   "metadata": {},
   "outputs": [
    {
     "data": {
      "text/plain": [
       "torch.Size([150, 15])"
      ]
     },
     "execution_count": 167,
     "metadata": {},
     "output_type": "execute_result"
    }
   ],
   "source": [
    "encoded_situation = torch.stack([reasoner.encode(s) for s in situations])\n",
    "encoded_situation.shape"
   ]
  },
  {
   "cell_type": "markdown",
   "id": "b7175dd8-1ae3-44eb-b6e2-8ff25e1240e9",
   "metadata": {},
   "source": [
    "Classify on the situation fv"
   ]
  },
  {
   "cell_type": "code",
   "execution_count": 172,
   "id": "a283944d-7e2b-4bae-a0f2-b434cdcd77f6",
   "metadata": {},
   "outputs": [
    {
     "name": "stdout",
     "output_type": "stream",
     "text": [
      "              precision    recall  f1-score   support\n",
      "\n",
      "    Bathroom       1.00      1.00      1.00         8\n",
      "  DiningRoom       0.90      1.00      0.95         9\n",
      "     Bedroom       1.00      0.89      0.94         9\n",
      "     Kitchen       0.89      0.80      0.84        10\n",
      "  LivingRoom       0.90      1.00      0.95         9\n",
      "\n",
      "    accuracy                           0.93        45\n",
      "   macro avg       0.94      0.94      0.94        45\n",
      "weighted avg       0.94      0.93      0.93        45\n",
      "\n"
     ]
    }
   ],
   "source": [
    "X_train, X_test, y_train, y_test = train_test_split(encoded_situation, y, test_size=0.3, random_state=42)\n",
    "\n",
    "clf = DecisionTreeClassifier(random_state=42)\n",
    "clf.fit(X_train, y_train)\n",
    "\n",
    "pred = clf.predict(X_test)\n",
    "\n",
    "print(classification_report(y_test, pred, zero_division=0, target_names=targets))"
   ]
  },
  {
   "cell_type": "markdown",
   "id": "5e12bada-72ee-42ab-8c3b-b82fe28a0ae8",
   "metadata": {},
   "source": [
    "what on only the inferred descriptions"
   ]
  },
  {
   "cell_type": "code",
   "execution_count": 171,
   "id": "407ffe75-6b8e-45ce-bdb5-6b1437783aba",
   "metadata": {},
   "outputs": [
    {
     "data": {
      "text/plain": [
       "torch.Size([150, 5])"
      ]
     },
     "execution_count": 171,
     "metadata": {},
     "output_type": "execute_result"
    }
   ],
   "source": [
    "inferred_descriptions = reasoner(encoded_situation)\n",
    "inferred_descriptions.shape"
   ]
  },
  {
   "cell_type": "markdown",
   "id": "749311d1-99b9-4be7-ae6d-d13db339bb24",
   "metadata": {},
   "source": [
    "classify on inference"
   ]
  },
  {
   "cell_type": "code",
   "execution_count": 173,
   "id": "938da9eb-37f3-4d6f-9437-a06678ae1afe",
   "metadata": {},
   "outputs": [
    {
     "name": "stdout",
     "output_type": "stream",
     "text": [
      "              precision    recall  f1-score   support\n",
      "\n",
      "    Bathroom       1.00      1.00      1.00         8\n",
      "  DiningRoom       1.00      1.00      1.00         9\n",
      "     Bedroom       1.00      1.00      1.00         9\n",
      "     Kitchen       1.00      1.00      1.00        10\n",
      "  LivingRoom       1.00      1.00      1.00         9\n",
      "\n",
      "    accuracy                           1.00        45\n",
      "   macro avg       1.00      1.00      1.00        45\n",
      "weighted avg       1.00      1.00      1.00        45\n",
      "\n"
     ]
    }
   ],
   "source": [
    "X_train, X_test, y_train, y_test = train_test_split(inferred_descriptions, y, test_size=0.3, random_state=42)\n",
    "\n",
    "clf = DecisionTreeClassifier(random_state=42)\n",
    "clf.fit(X_train, y_train)\n",
    "\n",
    "pred = clf.predict(X_test)\n",
    "\n",
    "print(classification_report(y_test, pred, zero_division=0, target_names=targets))"
   ]
  },
  {
   "cell_type": "markdown",
   "id": "28dc1267-1aeb-483b-991e-8e81fab54d47",
   "metadata": {},
   "source": [
    "classify on situation + inferece"
   ]
  },
  {
   "cell_type": "code",
   "execution_count": 179,
   "id": "2023f7c8-7812-4cf9-bc5f-a0bded8ae12c",
   "metadata": {},
   "outputs": [
    {
     "data": {
      "text/plain": [
       "tensor([[0.0000, 0.0000, 0.0000, 1.0000, 0.0000, 0.0000, 0.0000, 1.0000, 1.0000,\n",
       "         0.0000, 0.0000, 0.0000, 0.0000, 0.0000, 0.0000, 1.0000, 0.0000, 0.3333,\n",
       "         0.0000, 0.3333],\n",
       "        [1.0000, 0.0000, 0.0000, 0.0000, 0.0000, 0.0000, 0.0000, 0.0000, 0.0000,\n",
       "         0.0000, 0.0000, 0.0000, 1.0000, 0.0000, 1.0000, 0.0000, 0.6667, 0.0000,\n",
       "         0.0000, 0.3333]])"
      ]
     },
     "execution_count": 179,
     "metadata": {},
     "output_type": "execute_result"
    }
   ],
   "source": [
    "X = torch.cat([encoded_situation, inferred_descriptions], dim=1)\n",
    "X[:2]"
   ]
  },
  {
   "cell_type": "code",
   "execution_count": 180,
   "id": "434ad9e4-a728-4ca5-a81f-d3d98f3d6789",
   "metadata": {},
   "outputs": [
    {
     "name": "stdout",
     "output_type": "stream",
     "text": [
      "              precision    recall  f1-score   support\n",
      "\n",
      "    Bathroom       1.00      1.00      1.00         8\n",
      "  DiningRoom       1.00      1.00      1.00         9\n",
      "     Bedroom       1.00      1.00      1.00         9\n",
      "     Kitchen       1.00      1.00      1.00        10\n",
      "  LivingRoom       1.00      1.00      1.00         9\n",
      "\n",
      "    accuracy                           1.00        45\n",
      "   macro avg       1.00      1.00      1.00        45\n",
      "weighted avg       1.00      1.00      1.00        45\n",
      "\n"
     ]
    }
   ],
   "source": [
    "X_train, X_test, y_train, y_test = train_test_split(X, y, test_size=0.3, random_state=42)\n",
    "\n",
    "clf = DecisionTreeClassifier(random_state=42)\n",
    "clf.fit(X_train, y_train)\n",
    "\n",
    "pred = clf.predict(X_test)\n",
    "\n",
    "print(classification_report(y_test, pred, zero_division=0, target_names=targets))"
   ]
  },
  {
   "cell_type": "markdown",
   "id": "1eb7a956-f9c6-4350-9f4f-699fd52653d8",
   "metadata": {},
   "source": [
    "### Combine distributiona and Deductive"
   ]
  },
  {
   "cell_type": "code",
   "execution_count": 183,
   "id": "a95087b8-de30-4905-af86-1d3c1f7f1001",
   "metadata": {},
   "outputs": [
    {
     "name": "stdout",
     "output_type": "stream",
     "text": [
      "              precision    recall  f1-score   support\n",
      "\n",
      "    Bathroom       1.00      1.00      1.00         8\n",
      "  DiningRoom       1.00      1.00      1.00         9\n",
      "     Bedroom       1.00      1.00      1.00         9\n",
      "     Kitchen       1.00      1.00      1.00        10\n",
      "  LivingRoom       1.00      1.00      1.00         9\n",
      "\n",
      "    accuracy                           1.00        45\n",
      "   macro avg       1.00      1.00      1.00        45\n",
      "weighted avg       1.00      1.00      1.00        45\n",
      "\n"
     ]
    }
   ],
   "source": [
    "X = torch.cat([torch.tensor(X_vec.toarray()), inferred_descriptions], dim=1)\n",
    "\n",
    "clf = DecisionTreeClassifier(random_state=42)\n",
    "clf.fit(X_train, y_train)\n",
    "\n",
    "pred = clf.predict(X_test)\n",
    "\n",
    "print(classification_report(y_test, pred, zero_division=0, target_names=targets))"
   ]
  }
 ],
 "metadata": {
  "kernelspec": {
   "display_name": "Python 3 (ipykernel)",
   "language": "python",
   "name": "python3"
  },
  "language_info": {
   "codemirror_mode": {
    "name": "ipython",
    "version": 3
   },
   "file_extension": ".py",
   "mimetype": "text/x-python",
   "name": "python",
   "nbconvert_exporter": "python",
   "pygments_lexer": "ipython3",
   "version": "3.11.0"
  }
 },
 "nbformat": 4,
 "nbformat_minor": 5
}
